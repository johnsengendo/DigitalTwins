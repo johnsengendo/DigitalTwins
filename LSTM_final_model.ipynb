{
  "cells": [
    {
      "cell_type": "markdown",
      "metadata": {
        "id": "qemPjB7AuD4m"
      },
      "source": [
        "# **Importing necessary libraries and modules**"
      ]
    },
    {
      "cell_type": "code",
      "execution_count": 119,
      "metadata": {
        "id": "vVyJ8-Ynrdy-"
      },
      "outputs": [],
      "source": [
        "import os\n",
        "import tensorflow as tf\n",
        "import numpy as np\n",
        "import matplotlib.pyplot as plt\n",
        "import pandas as pd\n",
        "from pandas import read_csv\n",
        "from tensorflow.keras.models import Sequential\n",
        "from tensorflow.keras.layers import Dense, LSTM, Dropout, Lambda, Bidirectional, BatchNormalization\n",
        "from sklearn.preprocessing import MinMaxScaler\n",
        "from tensorflow.keras.optimizers import Adam\n",
        "from tensorflow.keras.callbacks import LearningRateScheduler, EarlyStopping\n",
        "from sklearn.model_selection import train_test_split\n",
        "from google.colab import drive\n",
        "from keras import regularizers\n",
        "from keras.optimizers import SGD, Adagrad, Adadelta, Nadam\n",
        "from keras import backend as K\n",
        "from keras.regularizers import Regularizer\n",
        "from keras.utils import register_keras_serializable"
      ]
    },
    {
      "cell_type": "markdown",
      "metadata": {
        "id": "17h2SfNQuWun"
      },
      "source": [
        "**Connecting to the drive to acces the data**"
      ]
    },
    {
      "cell_type": "code",
      "execution_count": 120,
      "metadata": {
        "colab": {
          "base_uri": "https://localhost:8080/"
        },
        "id": "kHJjypjWrtp9",
        "outputId": "32360b55-c6ca-41bf-f551-fa8a5e3d11ae"
      },
      "outputs": [
        {
          "output_type": "stream",
          "name": "stdout",
          "text": [
            "Drive already mounted at /content/gdrive; to attempt to forcibly remount, call drive.mount(\"/content/gdrive\", force_remount=True).\n"
          ]
        }
      ],
      "source": [
        "drive.mount('/content/gdrive')"
      ]
    },
    {
      "cell_type": "markdown",
      "metadata": {
        "id": "kfhw6lTbtHAe"
      },
      "source": [
        "**Loading the datasets stored in the drive**\n",
        "\n",
        "The data was preprocessed and stored on the drive for easier accesibility\n",
        "\n",
        "\n",
        "*   preprocessed_train_data is the data collected for the iperf ran for the duration of 10,20,30,40 Seconds\n",
        "*   preprocessed_val_data is the data collected for the iperf ran for the duration of 50 Seconds.\n",
        "*   preprocessed_test_data is the data collected for the iperf ran for the duration of 60 Seconds.\n",
        "*   preprocessed_train_val_data is a combination of both train and validation sets\n",
        "\n"
      ]
    },
    {
      "cell_type": "code",
      "execution_count": 121,
      "metadata": {
        "colab": {
          "base_uri": "https://localhost:8080/"
        },
        "id": "4QARvCSlsAiI",
        "outputId": "67c78dc5-2632-443f-cf30-157e108b376c"
      },
      "outputs": [
        {
          "output_type": "stream",
          "name": "stdout",
          "text": [
            "(1584, 6)\n",
            "(392, 6)\n",
            "(1976, 6)\n",
            "(391, 6)\n"
          ]
        }
      ],
      "source": [
        "\n",
        "# Using 3 datasets overall:\n",
        "# train, validation, and testing\n",
        "\n",
        "DATAPATH = '/content/gdrive/My Drive/Data/'\n",
        "TRAINDATAFILE = DATAPATH+'preprocessed_train_data.csv'\n",
        "VALDATAFILE = DATAPATH+'preprocessed_val_data.csv'\n",
        "\n",
        "TRAINVALDATAFILE = DATAPATH+'preprocessed_train_val_data.csv'\n",
        "TESTDATAFILE = DATAPATH+'preprocessed_test_data.csv'\n",
        "\n",
        "train_dataset = read_csv(TRAINDATAFILE, header=0, index_col=0)\n",
        "val_dataset = read_csv(VALDATAFILE, header=0, index_col=0)\n",
        "\n",
        "train_all_dataset = read_csv(TRAINVALDATAFILE, header=0, index_col=0)\n",
        "test_dataset = read_csv(TESTDATAFILE, header=0, index_col=0)\n",
        "\n",
        "print(train_dataset.shape)\n",
        "print(val_dataset.shape)\n",
        "print(train_all_dataset.shape)\n",
        "print(test_dataset.shape)"
      ]
    },
    {
      "cell_type": "markdown",
      "metadata": {
        "id": "O1Hc65VxvW5V"
      },
      "source": [
        "**Having an overview of the first rows of the data**"
      ]
    },
    {
      "cell_type": "code",
      "execution_count": 122,
      "metadata": {
        "colab": {
          "base_uri": "https://localhost:8080/",
          "height": 206
        },
        "id": "vT85HrlQuFaO",
        "outputId": "374ad5d5-6f6c-40ef-8737-748113198a26"
      },
      "outputs": [
        {
          "output_type": "execute_result",
          "data": {
            "text/plain": [
              "   Bandwidth (Mbits/sec)  Duration  Duration_of_measurement  Interval_stage  \\\n",
              "0                  12.60        10                     0.25               1   \n",
              "1                  12.60        10                     0.25               2   \n",
              "2                  10.50        10                     0.75               3   \n",
              "3                   8.39        10                     0.75               4   \n",
              "4                  10.50        10                     1.25               5   \n",
              "\n",
              "   Tranfered Trafic (KBytes)  Direction_Coded  \n",
              "0                   0.750000                1  \n",
              "1                   0.750977                0  \n",
              "2                   0.625000                1  \n",
              "3                   0.500000                0  \n",
              "4                   0.625000                1  "
            ],
            "text/html": [
              "\n",
              "  <div id=\"df-452ec27e-2886-4ea5-9363-b9302e2a89be\" class=\"colab-df-container\">\n",
              "    <div>\n",
              "<style scoped>\n",
              "    .dataframe tbody tr th:only-of-type {\n",
              "        vertical-align: middle;\n",
              "    }\n",
              "\n",
              "    .dataframe tbody tr th {\n",
              "        vertical-align: top;\n",
              "    }\n",
              "\n",
              "    .dataframe thead th {\n",
              "        text-align: right;\n",
              "    }\n",
              "</style>\n",
              "<table border=\"1\" class=\"dataframe\">\n",
              "  <thead>\n",
              "    <tr style=\"text-align: right;\">\n",
              "      <th></th>\n",
              "      <th>Bandwidth (Mbits/sec)</th>\n",
              "      <th>Duration</th>\n",
              "      <th>Duration_of_measurement</th>\n",
              "      <th>Interval_stage</th>\n",
              "      <th>Tranfered Trafic (KBytes)</th>\n",
              "      <th>Direction_Coded</th>\n",
              "    </tr>\n",
              "  </thead>\n",
              "  <tbody>\n",
              "    <tr>\n",
              "      <th>0</th>\n",
              "      <td>12.60</td>\n",
              "      <td>10</td>\n",
              "      <td>0.25</td>\n",
              "      <td>1</td>\n",
              "      <td>0.750000</td>\n",
              "      <td>1</td>\n",
              "    </tr>\n",
              "    <tr>\n",
              "      <th>1</th>\n",
              "      <td>12.60</td>\n",
              "      <td>10</td>\n",
              "      <td>0.25</td>\n",
              "      <td>2</td>\n",
              "      <td>0.750977</td>\n",
              "      <td>0</td>\n",
              "    </tr>\n",
              "    <tr>\n",
              "      <th>2</th>\n",
              "      <td>10.50</td>\n",
              "      <td>10</td>\n",
              "      <td>0.75</td>\n",
              "      <td>3</td>\n",
              "      <td>0.625000</td>\n",
              "      <td>1</td>\n",
              "    </tr>\n",
              "    <tr>\n",
              "      <th>3</th>\n",
              "      <td>8.39</td>\n",
              "      <td>10</td>\n",
              "      <td>0.75</td>\n",
              "      <td>4</td>\n",
              "      <td>0.500000</td>\n",
              "      <td>0</td>\n",
              "    </tr>\n",
              "    <tr>\n",
              "      <th>4</th>\n",
              "      <td>10.50</td>\n",
              "      <td>10</td>\n",
              "      <td>1.25</td>\n",
              "      <td>5</td>\n",
              "      <td>0.625000</td>\n",
              "      <td>1</td>\n",
              "    </tr>\n",
              "  </tbody>\n",
              "</table>\n",
              "</div>\n",
              "    <div class=\"colab-df-buttons\">\n",
              "\n",
              "  <div class=\"colab-df-container\">\n",
              "    <button class=\"colab-df-convert\" onclick=\"convertToInteractive('df-452ec27e-2886-4ea5-9363-b9302e2a89be')\"\n",
              "            title=\"Convert this dataframe to an interactive table.\"\n",
              "            style=\"display:none;\">\n",
              "\n",
              "  <svg xmlns=\"http://www.w3.org/2000/svg\" height=\"24px\" viewBox=\"0 -960 960 960\">\n",
              "    <path d=\"M120-120v-720h720v720H120Zm60-500h600v-160H180v160Zm220 220h160v-160H400v160Zm0 220h160v-160H400v160ZM180-400h160v-160H180v160Zm440 0h160v-160H620v160ZM180-180h160v-160H180v160Zm440 0h160v-160H620v160Z\"/>\n",
              "  </svg>\n",
              "    </button>\n",
              "\n",
              "  <style>\n",
              "    .colab-df-container {\n",
              "      display:flex;\n",
              "      gap: 12px;\n",
              "    }\n",
              "\n",
              "    .colab-df-convert {\n",
              "      background-color: #E8F0FE;\n",
              "      border: none;\n",
              "      border-radius: 50%;\n",
              "      cursor: pointer;\n",
              "      display: none;\n",
              "      fill: #1967D2;\n",
              "      height: 32px;\n",
              "      padding: 0 0 0 0;\n",
              "      width: 32px;\n",
              "    }\n",
              "\n",
              "    .colab-df-convert:hover {\n",
              "      background-color: #E2EBFA;\n",
              "      box-shadow: 0px 1px 2px rgba(60, 64, 67, 0.3), 0px 1px 3px 1px rgba(60, 64, 67, 0.15);\n",
              "      fill: #174EA6;\n",
              "    }\n",
              "\n",
              "    .colab-df-buttons div {\n",
              "      margin-bottom: 4px;\n",
              "    }\n",
              "\n",
              "    [theme=dark] .colab-df-convert {\n",
              "      background-color: #3B4455;\n",
              "      fill: #D2E3FC;\n",
              "    }\n",
              "\n",
              "    [theme=dark] .colab-df-convert:hover {\n",
              "      background-color: #434B5C;\n",
              "      box-shadow: 0px 1px 3px 1px rgba(0, 0, 0, 0.15);\n",
              "      filter: drop-shadow(0px 1px 2px rgba(0, 0, 0, 0.3));\n",
              "      fill: #FFFFFF;\n",
              "    }\n",
              "  </style>\n",
              "\n",
              "    <script>\n",
              "      const buttonEl =\n",
              "        document.querySelector('#df-452ec27e-2886-4ea5-9363-b9302e2a89be button.colab-df-convert');\n",
              "      buttonEl.style.display =\n",
              "        google.colab.kernel.accessAllowed ? 'block' : 'none';\n",
              "\n",
              "      async function convertToInteractive(key) {\n",
              "        const element = document.querySelector('#df-452ec27e-2886-4ea5-9363-b9302e2a89be');\n",
              "        const dataTable =\n",
              "          await google.colab.kernel.invokeFunction('convertToInteractive',\n",
              "                                                    [key], {});\n",
              "        if (!dataTable) return;\n",
              "\n",
              "        const docLinkHtml = 'Like what you see? Visit the ' +\n",
              "          '<a target=\"_blank\" href=https://colab.research.google.com/notebooks/data_table.ipynb>data table notebook</a>'\n",
              "          + ' to learn more about interactive tables.';\n",
              "        element.innerHTML = '';\n",
              "        dataTable['output_type'] = 'display_data';\n",
              "        await google.colab.output.renderOutput(dataTable, element);\n",
              "        const docLink = document.createElement('div');\n",
              "        docLink.innerHTML = docLinkHtml;\n",
              "        element.appendChild(docLink);\n",
              "      }\n",
              "    </script>\n",
              "  </div>\n",
              "\n",
              "\n",
              "<div id=\"df-5aed73c4-5cc9-4dd9-8ab2-e66a1b43f890\">\n",
              "  <button class=\"colab-df-quickchart\" onclick=\"quickchart('df-5aed73c4-5cc9-4dd9-8ab2-e66a1b43f890')\"\n",
              "            title=\"Suggest charts\"\n",
              "            style=\"display:none;\">\n",
              "\n",
              "<svg xmlns=\"http://www.w3.org/2000/svg\" height=\"24px\"viewBox=\"0 0 24 24\"\n",
              "     width=\"24px\">\n",
              "    <g>\n",
              "        <path d=\"M19 3H5c-1.1 0-2 .9-2 2v14c0 1.1.9 2 2 2h14c1.1 0 2-.9 2-2V5c0-1.1-.9-2-2-2zM9 17H7v-7h2v7zm4 0h-2V7h2v10zm4 0h-2v-4h2v4z\"/>\n",
              "    </g>\n",
              "</svg>\n",
              "  </button>\n",
              "\n",
              "<style>\n",
              "  .colab-df-quickchart {\n",
              "      --bg-color: #E8F0FE;\n",
              "      --fill-color: #1967D2;\n",
              "      --hover-bg-color: #E2EBFA;\n",
              "      --hover-fill-color: #174EA6;\n",
              "      --disabled-fill-color: #AAA;\n",
              "      --disabled-bg-color: #DDD;\n",
              "  }\n",
              "\n",
              "  [theme=dark] .colab-df-quickchart {\n",
              "      --bg-color: #3B4455;\n",
              "      --fill-color: #D2E3FC;\n",
              "      --hover-bg-color: #434B5C;\n",
              "      --hover-fill-color: #FFFFFF;\n",
              "      --disabled-bg-color: #3B4455;\n",
              "      --disabled-fill-color: #666;\n",
              "  }\n",
              "\n",
              "  .colab-df-quickchart {\n",
              "    background-color: var(--bg-color);\n",
              "    border: none;\n",
              "    border-radius: 50%;\n",
              "    cursor: pointer;\n",
              "    display: none;\n",
              "    fill: var(--fill-color);\n",
              "    height: 32px;\n",
              "    padding: 0;\n",
              "    width: 32px;\n",
              "  }\n",
              "\n",
              "  .colab-df-quickchart:hover {\n",
              "    background-color: var(--hover-bg-color);\n",
              "    box-shadow: 0 1px 2px rgba(60, 64, 67, 0.3), 0 1px 3px 1px rgba(60, 64, 67, 0.15);\n",
              "    fill: var(--button-hover-fill-color);\n",
              "  }\n",
              "\n",
              "  .colab-df-quickchart-complete:disabled,\n",
              "  .colab-df-quickchart-complete:disabled:hover {\n",
              "    background-color: var(--disabled-bg-color);\n",
              "    fill: var(--disabled-fill-color);\n",
              "    box-shadow: none;\n",
              "  }\n",
              "\n",
              "  .colab-df-spinner {\n",
              "    border: 2px solid var(--fill-color);\n",
              "    border-color: transparent;\n",
              "    border-bottom-color: var(--fill-color);\n",
              "    animation:\n",
              "      spin 1s steps(1) infinite;\n",
              "  }\n",
              "\n",
              "  @keyframes spin {\n",
              "    0% {\n",
              "      border-color: transparent;\n",
              "      border-bottom-color: var(--fill-color);\n",
              "      border-left-color: var(--fill-color);\n",
              "    }\n",
              "    20% {\n",
              "      border-color: transparent;\n",
              "      border-left-color: var(--fill-color);\n",
              "      border-top-color: var(--fill-color);\n",
              "    }\n",
              "    30% {\n",
              "      border-color: transparent;\n",
              "      border-left-color: var(--fill-color);\n",
              "      border-top-color: var(--fill-color);\n",
              "      border-right-color: var(--fill-color);\n",
              "    }\n",
              "    40% {\n",
              "      border-color: transparent;\n",
              "      border-right-color: var(--fill-color);\n",
              "      border-top-color: var(--fill-color);\n",
              "    }\n",
              "    60% {\n",
              "      border-color: transparent;\n",
              "      border-right-color: var(--fill-color);\n",
              "    }\n",
              "    80% {\n",
              "      border-color: transparent;\n",
              "      border-right-color: var(--fill-color);\n",
              "      border-bottom-color: var(--fill-color);\n",
              "    }\n",
              "    90% {\n",
              "      border-color: transparent;\n",
              "      border-bottom-color: var(--fill-color);\n",
              "    }\n",
              "  }\n",
              "</style>\n",
              "\n",
              "  <script>\n",
              "    async function quickchart(key) {\n",
              "      const quickchartButtonEl =\n",
              "        document.querySelector('#' + key + ' button');\n",
              "      quickchartButtonEl.disabled = true;  // To prevent multiple clicks.\n",
              "      quickchartButtonEl.classList.add('colab-df-spinner');\n",
              "      try {\n",
              "        const charts = await google.colab.kernel.invokeFunction(\n",
              "            'suggestCharts', [key], {});\n",
              "      } catch (error) {\n",
              "        console.error('Error during call to suggestCharts:', error);\n",
              "      }\n",
              "      quickchartButtonEl.classList.remove('colab-df-spinner');\n",
              "      quickchartButtonEl.classList.add('colab-df-quickchart-complete');\n",
              "    }\n",
              "    (() => {\n",
              "      let quickchartButtonEl =\n",
              "        document.querySelector('#df-5aed73c4-5cc9-4dd9-8ab2-e66a1b43f890 button');\n",
              "      quickchartButtonEl.style.display =\n",
              "        google.colab.kernel.accessAllowed ? 'block' : 'none';\n",
              "    })();\n",
              "  </script>\n",
              "</div>\n",
              "    </div>\n",
              "  </div>\n"
            ],
            "application/vnd.google.colaboratory.intrinsic+json": {
              "type": "dataframe",
              "variable_name": "train_all_dataset",
              "summary": "{\n  \"name\": \"train_all_dataset\",\n  \"rows\": 1976,\n  \"fields\": [\n    {\n      \"column\": \"Bandwidth (Mbits/sec)\",\n      \"properties\": {\n        \"dtype\": \"number\",\n        \"std\": 0.5385584760280686,\n        \"min\": 8.39,\n        \"max\": 12.6,\n        \"num_unique_values\": 16,\n        \"samples\": [\n          12.6,\n          10.5,\n          9.43\n        ],\n        \"semantic_type\": \"\",\n        \"description\": \"\"\n      }\n    },\n    {\n      \"column\": \"Duration\",\n      \"properties\": {\n        \"dtype\": \"number\",\n        \"std\": 14,\n        \"min\": 10,\n        \"max\": 50,\n        \"num_unique_values\": 5,\n        \"samples\": [\n          20,\n          50,\n          30\n        ],\n        \"semantic_type\": \"\",\n        \"description\": \"\"\n      }\n    },\n    {\n      \"column\": \"Duration_of_measurement\",\n      \"properties\": {\n        \"dtype\": \"number\",\n        \"std\": 2.8670924443960217,\n        \"min\": 0.25,\n        \"max\": 9.75,\n        \"num_unique_values\": 20,\n        \"samples\": [\n          0.25,\n          8.75,\n          7.75\n        ],\n        \"semantic_type\": \"\",\n        \"description\": \"\"\n      }\n    },\n    {\n      \"column\": \"Interval_stage\",\n      \"properties\": {\n        \"dtype\": \"number\",\n        \"std\": 114,\n        \"min\": 1,\n        \"max\": 400,\n        \"num_unique_values\": 400,\n        \"samples\": [\n          210,\n          281,\n          34\n        ],\n        \"semantic_type\": \"\",\n        \"description\": \"\"\n      }\n    },\n    {\n      \"column\": \"Tranfered Trafic (KBytes)\",\n      \"properties\": {\n        \"dtype\": \"number\",\n        \"std\": 0.8454310470348969,\n        \"min\": 0.5,\n        \"max\": 3.12,\n        \"num_unique_values\": 21,\n        \"samples\": [\n          0.75,\n          3.12,\n          2.38\n        ],\n        \"semantic_type\": \"\",\n        \"description\": \"\"\n      }\n    },\n    {\n      \"column\": \"Direction_Coded\",\n      \"properties\": {\n        \"dtype\": \"number\",\n        \"std\": 0,\n        \"min\": 0,\n        \"max\": 1,\n        \"num_unique_values\": 2,\n        \"samples\": [\n          0,\n          1\n        ],\n        \"semantic_type\": \"\",\n        \"description\": \"\"\n      }\n    }\n  ]\n}"
            }
          },
          "metadata": {},
          "execution_count": 122
        }
      ],
      "source": [
        "train_all_dataset.head()"
      ]
    },
    {
      "cell_type": "markdown",
      "metadata": {
        "id": "76OB4ze0BYW4"
      },
      "source": [
        "**A little more preprocessong of the datasets.**"
      ]
    },
    {
      "cell_type": "code",
      "execution_count": 123,
      "metadata": {
        "colab": {
          "base_uri": "https://localhost:8080/"
        },
        "id": "igCZpdP6xct7",
        "outputId": "f0fb691f-4627-4f2a-824a-da610c993e13"
      },
      "outputs": [
        {
          "output_type": "stream",
          "name": "stdout",
          "text": [
            "(2367, 6)\n"
          ]
        }
      ],
      "source": [
        "# Concatenating the train and test datasets to create a single dataset\n",
        "dataset = pd.concat([train_all_dataset, test_dataset], axis=0)\n",
        "print(dataset.shape)"
      ]
    },
    {
      "cell_type": "code",
      "execution_count": 124,
      "metadata": {
        "colab": {
          "base_uri": "https://localhost:8080/",
          "height": 206
        },
        "id": "BHS5Plc3Hxz3",
        "outputId": "27305509-c6e9-452d-a1f6-dd9ad38bed9f"
      },
      "outputs": [
        {
          "output_type": "execute_result",
          "data": {
            "text/plain": [
              "   Bandwidth (Mbits/sec)  Duration  Interval_stage  Tranfered Trafic (KBytes)  \\\n",
              "0                  12.60        10               1                   0.750000   \n",
              "1                  12.60        10               2                   0.750977   \n",
              "2                  10.50        10               3                   0.625000   \n",
              "3                   8.39        10               4                   0.500000   \n",
              "4                  10.50        10               5                   0.625000   \n",
              "\n",
              "   Direction_Coded  \n",
              "0                1  \n",
              "1                0  \n",
              "2                1  \n",
              "3                0  \n",
              "4                1  "
            ],
            "text/html": [
              "\n",
              "  <div id=\"df-4776da15-1cf7-4b3e-905a-271eda4bb8f2\" class=\"colab-df-container\">\n",
              "    <div>\n",
              "<style scoped>\n",
              "    .dataframe tbody tr th:only-of-type {\n",
              "        vertical-align: middle;\n",
              "    }\n",
              "\n",
              "    .dataframe tbody tr th {\n",
              "        vertical-align: top;\n",
              "    }\n",
              "\n",
              "    .dataframe thead th {\n",
              "        text-align: right;\n",
              "    }\n",
              "</style>\n",
              "<table border=\"1\" class=\"dataframe\">\n",
              "  <thead>\n",
              "    <tr style=\"text-align: right;\">\n",
              "      <th></th>\n",
              "      <th>Bandwidth (Mbits/sec)</th>\n",
              "      <th>Duration</th>\n",
              "      <th>Interval_stage</th>\n",
              "      <th>Tranfered Trafic (KBytes)</th>\n",
              "      <th>Direction_Coded</th>\n",
              "    </tr>\n",
              "  </thead>\n",
              "  <tbody>\n",
              "    <tr>\n",
              "      <th>0</th>\n",
              "      <td>12.60</td>\n",
              "      <td>10</td>\n",
              "      <td>1</td>\n",
              "      <td>0.750000</td>\n",
              "      <td>1</td>\n",
              "    </tr>\n",
              "    <tr>\n",
              "      <th>1</th>\n",
              "      <td>12.60</td>\n",
              "      <td>10</td>\n",
              "      <td>2</td>\n",
              "      <td>0.750977</td>\n",
              "      <td>0</td>\n",
              "    </tr>\n",
              "    <tr>\n",
              "      <th>2</th>\n",
              "      <td>10.50</td>\n",
              "      <td>10</td>\n",
              "      <td>3</td>\n",
              "      <td>0.625000</td>\n",
              "      <td>1</td>\n",
              "    </tr>\n",
              "    <tr>\n",
              "      <th>3</th>\n",
              "      <td>8.39</td>\n",
              "      <td>10</td>\n",
              "      <td>4</td>\n",
              "      <td>0.500000</td>\n",
              "      <td>0</td>\n",
              "    </tr>\n",
              "    <tr>\n",
              "      <th>4</th>\n",
              "      <td>10.50</td>\n",
              "      <td>10</td>\n",
              "      <td>5</td>\n",
              "      <td>0.625000</td>\n",
              "      <td>1</td>\n",
              "    </tr>\n",
              "  </tbody>\n",
              "</table>\n",
              "</div>\n",
              "    <div class=\"colab-df-buttons\">\n",
              "\n",
              "  <div class=\"colab-df-container\">\n",
              "    <button class=\"colab-df-convert\" onclick=\"convertToInteractive('df-4776da15-1cf7-4b3e-905a-271eda4bb8f2')\"\n",
              "            title=\"Convert this dataframe to an interactive table.\"\n",
              "            style=\"display:none;\">\n",
              "\n",
              "  <svg xmlns=\"http://www.w3.org/2000/svg\" height=\"24px\" viewBox=\"0 -960 960 960\">\n",
              "    <path d=\"M120-120v-720h720v720H120Zm60-500h600v-160H180v160Zm220 220h160v-160H400v160Zm0 220h160v-160H400v160ZM180-400h160v-160H180v160Zm440 0h160v-160H620v160ZM180-180h160v-160H180v160Zm440 0h160v-160H620v160Z\"/>\n",
              "  </svg>\n",
              "    </button>\n",
              "\n",
              "  <style>\n",
              "    .colab-df-container {\n",
              "      display:flex;\n",
              "      gap: 12px;\n",
              "    }\n",
              "\n",
              "    .colab-df-convert {\n",
              "      background-color: #E8F0FE;\n",
              "      border: none;\n",
              "      border-radius: 50%;\n",
              "      cursor: pointer;\n",
              "      display: none;\n",
              "      fill: #1967D2;\n",
              "      height: 32px;\n",
              "      padding: 0 0 0 0;\n",
              "      width: 32px;\n",
              "    }\n",
              "\n",
              "    .colab-df-convert:hover {\n",
              "      background-color: #E2EBFA;\n",
              "      box-shadow: 0px 1px 2px rgba(60, 64, 67, 0.3), 0px 1px 3px 1px rgba(60, 64, 67, 0.15);\n",
              "      fill: #174EA6;\n",
              "    }\n",
              "\n",
              "    .colab-df-buttons div {\n",
              "      margin-bottom: 4px;\n",
              "    }\n",
              "\n",
              "    [theme=dark] .colab-df-convert {\n",
              "      background-color: #3B4455;\n",
              "      fill: #D2E3FC;\n",
              "    }\n",
              "\n",
              "    [theme=dark] .colab-df-convert:hover {\n",
              "      background-color: #434B5C;\n",
              "      box-shadow: 0px 1px 3px 1px rgba(0, 0, 0, 0.15);\n",
              "      filter: drop-shadow(0px 1px 2px rgba(0, 0, 0, 0.3));\n",
              "      fill: #FFFFFF;\n",
              "    }\n",
              "  </style>\n",
              "\n",
              "    <script>\n",
              "      const buttonEl =\n",
              "        document.querySelector('#df-4776da15-1cf7-4b3e-905a-271eda4bb8f2 button.colab-df-convert');\n",
              "      buttonEl.style.display =\n",
              "        google.colab.kernel.accessAllowed ? 'block' : 'none';\n",
              "\n",
              "      async function convertToInteractive(key) {\n",
              "        const element = document.querySelector('#df-4776da15-1cf7-4b3e-905a-271eda4bb8f2');\n",
              "        const dataTable =\n",
              "          await google.colab.kernel.invokeFunction('convertToInteractive',\n",
              "                                                    [key], {});\n",
              "        if (!dataTable) return;\n",
              "\n",
              "        const docLinkHtml = 'Like what you see? Visit the ' +\n",
              "          '<a target=\"_blank\" href=https://colab.research.google.com/notebooks/data_table.ipynb>data table notebook</a>'\n",
              "          + ' to learn more about interactive tables.';\n",
              "        element.innerHTML = '';\n",
              "        dataTable['output_type'] = 'display_data';\n",
              "        await google.colab.output.renderOutput(dataTable, element);\n",
              "        const docLink = document.createElement('div');\n",
              "        docLink.innerHTML = docLinkHtml;\n",
              "        element.appendChild(docLink);\n",
              "      }\n",
              "    </script>\n",
              "  </div>\n",
              "\n",
              "\n",
              "<div id=\"df-1fde7c12-096d-4b33-b953-be39ae387b91\">\n",
              "  <button class=\"colab-df-quickchart\" onclick=\"quickchart('df-1fde7c12-096d-4b33-b953-be39ae387b91')\"\n",
              "            title=\"Suggest charts\"\n",
              "            style=\"display:none;\">\n",
              "\n",
              "<svg xmlns=\"http://www.w3.org/2000/svg\" height=\"24px\"viewBox=\"0 0 24 24\"\n",
              "     width=\"24px\">\n",
              "    <g>\n",
              "        <path d=\"M19 3H5c-1.1 0-2 .9-2 2v14c0 1.1.9 2 2 2h14c1.1 0 2-.9 2-2V5c0-1.1-.9-2-2-2zM9 17H7v-7h2v7zm4 0h-2V7h2v10zm4 0h-2v-4h2v4z\"/>\n",
              "    </g>\n",
              "</svg>\n",
              "  </button>\n",
              "\n",
              "<style>\n",
              "  .colab-df-quickchart {\n",
              "      --bg-color: #E8F0FE;\n",
              "      --fill-color: #1967D2;\n",
              "      --hover-bg-color: #E2EBFA;\n",
              "      --hover-fill-color: #174EA6;\n",
              "      --disabled-fill-color: #AAA;\n",
              "      --disabled-bg-color: #DDD;\n",
              "  }\n",
              "\n",
              "  [theme=dark] .colab-df-quickchart {\n",
              "      --bg-color: #3B4455;\n",
              "      --fill-color: #D2E3FC;\n",
              "      --hover-bg-color: #434B5C;\n",
              "      --hover-fill-color: #FFFFFF;\n",
              "      --disabled-bg-color: #3B4455;\n",
              "      --disabled-fill-color: #666;\n",
              "  }\n",
              "\n",
              "  .colab-df-quickchart {\n",
              "    background-color: var(--bg-color);\n",
              "    border: none;\n",
              "    border-radius: 50%;\n",
              "    cursor: pointer;\n",
              "    display: none;\n",
              "    fill: var(--fill-color);\n",
              "    height: 32px;\n",
              "    padding: 0;\n",
              "    width: 32px;\n",
              "  }\n",
              "\n",
              "  .colab-df-quickchart:hover {\n",
              "    background-color: var(--hover-bg-color);\n",
              "    box-shadow: 0 1px 2px rgba(60, 64, 67, 0.3), 0 1px 3px 1px rgba(60, 64, 67, 0.15);\n",
              "    fill: var(--button-hover-fill-color);\n",
              "  }\n",
              "\n",
              "  .colab-df-quickchart-complete:disabled,\n",
              "  .colab-df-quickchart-complete:disabled:hover {\n",
              "    background-color: var(--disabled-bg-color);\n",
              "    fill: var(--disabled-fill-color);\n",
              "    box-shadow: none;\n",
              "  }\n",
              "\n",
              "  .colab-df-spinner {\n",
              "    border: 2px solid var(--fill-color);\n",
              "    border-color: transparent;\n",
              "    border-bottom-color: var(--fill-color);\n",
              "    animation:\n",
              "      spin 1s steps(1) infinite;\n",
              "  }\n",
              "\n",
              "  @keyframes spin {\n",
              "    0% {\n",
              "      border-color: transparent;\n",
              "      border-bottom-color: var(--fill-color);\n",
              "      border-left-color: var(--fill-color);\n",
              "    }\n",
              "    20% {\n",
              "      border-color: transparent;\n",
              "      border-left-color: var(--fill-color);\n",
              "      border-top-color: var(--fill-color);\n",
              "    }\n",
              "    30% {\n",
              "      border-color: transparent;\n",
              "      border-left-color: var(--fill-color);\n",
              "      border-top-color: var(--fill-color);\n",
              "      border-right-color: var(--fill-color);\n",
              "    }\n",
              "    40% {\n",
              "      border-color: transparent;\n",
              "      border-right-color: var(--fill-color);\n",
              "      border-top-color: var(--fill-color);\n",
              "    }\n",
              "    60% {\n",
              "      border-color: transparent;\n",
              "      border-right-color: var(--fill-color);\n",
              "    }\n",
              "    80% {\n",
              "      border-color: transparent;\n",
              "      border-right-color: var(--fill-color);\n",
              "      border-bottom-color: var(--fill-color);\n",
              "    }\n",
              "    90% {\n",
              "      border-color: transparent;\n",
              "      border-bottom-color: var(--fill-color);\n",
              "    }\n",
              "  }\n",
              "</style>\n",
              "\n",
              "  <script>\n",
              "    async function quickchart(key) {\n",
              "      const quickchartButtonEl =\n",
              "        document.querySelector('#' + key + ' button');\n",
              "      quickchartButtonEl.disabled = true;  // To prevent multiple clicks.\n",
              "      quickchartButtonEl.classList.add('colab-df-spinner');\n",
              "      try {\n",
              "        const charts = await google.colab.kernel.invokeFunction(\n",
              "            'suggestCharts', [key], {});\n",
              "      } catch (error) {\n",
              "        console.error('Error during call to suggestCharts:', error);\n",
              "      }\n",
              "      quickchartButtonEl.classList.remove('colab-df-spinner');\n",
              "      quickchartButtonEl.classList.add('colab-df-quickchart-complete');\n",
              "    }\n",
              "    (() => {\n",
              "      let quickchartButtonEl =\n",
              "        document.querySelector('#df-1fde7c12-096d-4b33-b953-be39ae387b91 button');\n",
              "      quickchartButtonEl.style.display =\n",
              "        google.colab.kernel.accessAllowed ? 'block' : 'none';\n",
              "    })();\n",
              "  </script>\n",
              "</div>\n",
              "    </div>\n",
              "  </div>\n"
            ],
            "application/vnd.google.colaboratory.intrinsic+json": {
              "type": "dataframe",
              "variable_name": "df",
              "summary": "{\n  \"name\": \"df\",\n  \"rows\": 1976,\n  \"fields\": [\n    {\n      \"column\": \"Bandwidth (Mbits/sec)\",\n      \"properties\": {\n        \"dtype\": \"number\",\n        \"std\": 0.5385584760280686,\n        \"min\": 8.39,\n        \"max\": 12.6,\n        \"num_unique_values\": 16,\n        \"samples\": [\n          12.6,\n          10.5,\n          9.43\n        ],\n        \"semantic_type\": \"\",\n        \"description\": \"\"\n      }\n    },\n    {\n      \"column\": \"Duration\",\n      \"properties\": {\n        \"dtype\": \"number\",\n        \"std\": 14,\n        \"min\": 10,\n        \"max\": 50,\n        \"num_unique_values\": 5,\n        \"samples\": [\n          20,\n          50,\n          30\n        ],\n        \"semantic_type\": \"\",\n        \"description\": \"\"\n      }\n    },\n    {\n      \"column\": \"Interval_stage\",\n      \"properties\": {\n        \"dtype\": \"number\",\n        \"std\": 114,\n        \"min\": 1,\n        \"max\": 400,\n        \"num_unique_values\": 400,\n        \"samples\": [\n          210,\n          281,\n          34\n        ],\n        \"semantic_type\": \"\",\n        \"description\": \"\"\n      }\n    },\n    {\n      \"column\": \"Tranfered Trafic (KBytes)\",\n      \"properties\": {\n        \"dtype\": \"number\",\n        \"std\": 0.8454310470348969,\n        \"min\": 0.5,\n        \"max\": 3.12,\n        \"num_unique_values\": 21,\n        \"samples\": [\n          0.75,\n          3.12,\n          2.38\n        ],\n        \"semantic_type\": \"\",\n        \"description\": \"\"\n      }\n    },\n    {\n      \"column\": \"Direction_Coded\",\n      \"properties\": {\n        \"dtype\": \"number\",\n        \"std\": 0,\n        \"min\": 0,\n        \"max\": 1,\n        \"num_unique_values\": 2,\n        \"samples\": [\n          0,\n          1\n        ],\n        \"semantic_type\": \"\",\n        \"description\": \"\"\n      }\n    }\n  ]\n}"
            }
          },
          "metadata": {},
          "execution_count": 124
        }
      ],
      "source": [
        "# Droping off irrelevant columns\n",
        "df = train_all_dataset.drop(['Duration_of_measurement'], axis=1)\n",
        "df.head()"
      ]
    },
    {
      "cell_type": "code",
      "execution_count": 125,
      "metadata": {
        "id": "LT2WnZKEz5-S"
      },
      "outputs": [],
      "source": [
        "# I rename columns in the dataset to improve readability and clarity.\n",
        "# Column 'Tranfered Trafic (KBytes)' is being rectified for a spelling error.\n",
        "# Column 'Duration' is renamed to 'Duration(Sec)' to explicitly state that the duration is measured in seconds.\n",
        "# Column 'Direction_Coded' is being renamed to 'Direction (up-link /down-link)' to provide indication of the data it shows.\n",
        "dataset.rename(columns={'Tranfered Trafic (KBytes)': 'Transfered Trafic (KBytes)','Duration': 'Duration(Sec)', 'Direction_Coded':'Direction (up-link /down-link)'}, inplace=True)"
      ]
    },
    {
      "cell_type": "code",
      "execution_count": 126,
      "metadata": {
        "colab": {
          "base_uri": "https://localhost:8080/"
        },
        "id": "QaHk-5MKyc2I",
        "outputId": "db5b4069-3008-40a7-89ce-e76354646cd8"
      },
      "outputs": [
        {
          "output_type": "stream",
          "name": "stdout",
          "text": [
            "Index of column 'Transfered Trafic (KBytes)' is: 4\n"
          ]
        }
      ],
      "source": [
        "# Confirming the position of target feature (Transfered Trafic (KBytes))\n",
        "column_name = 'Transfered Trafic (KBytes)'\n",
        "column_index = dataset.columns.get_loc(column_name)\n",
        "\n",
        "print(\"Index of column '{}' is: {}\".format(column_name, column_index))"
      ]
    },
    {
      "cell_type": "markdown",
      "metadata": {
        "id": "oYhEO0OkMePC"
      },
      "source": [
        "\n",
        "\n",
        "**Function to prepare input-output pairs for trainning the LSTM (our time series prediction model)**"
      ]
    },
    {
      "cell_type": "code",
      "execution_count": 127,
      "metadata": {
        "id": "RcSqXfFK1xwn"
      },
      "outputs": [],
      "source": [
        "def prepare_dataset(data, lookback, future_interval):\n",
        "    X, y = [], []\n",
        "    for i in range(len(data) - lookback - future_interval + 1):\n",
        "        # Extracting input sequence with number of rows = (lookback) and all the columns\n",
        "        input_seq = data[i:(i + lookback), :]\n",
        "\n",
        "        # Extracting output for the future interval\n",
        "        output = data[i + lookback + future_interval - 1, 4]  # column 4 is the one of Transfered_data\n",
        "\n",
        "        X.append(input_seq)\n",
        "        y.append(output)\n",
        "\n",
        "    return np.array(X), np.array(y)\n",
        "\n",
        "# Defining lookback and future interval\n",
        "data = dataset.values\n",
        "lookback = 3  # Number of time steps to look back\n",
        "future_interval = 1  # Future interval for prediction (e.g., if its , 3 the model will predict 3 times steps ahead)\n",
        "\n",
        "# Preparing input-output pairs for training\n",
        "X_train_full, y_train_full = prepare_dataset(data, lookback, future_interval)"
      ]
    },
    {
      "cell_type": "markdown",
      "metadata": {
        "id": "o1wfc-A4Z9-j"
      },
      "source": [
        "**Using the train_test_split function to split the data into training and test while preserving the temporal order of the data (shuffle=False), which is crucial for time series prediction tasks.**\n",
        "\n",
        "**Steps performed in sliting:**\n",
        "*   I perform 2 splits.\n",
        "*   First I split the entire dataset into Training and testing, where the last bit (20%) of the data is reserved for testing (this is the data containing majority of the transmissions performed for 60 Seconds).\n",
        "*   Secondly I split the training set into 2 (Training and validation (20%)), where the validation set is the data contaioning majority of the transmissios performed for 50 seconds.\n",
        "\n"
      ]
    },
    {
      "cell_type": "code",
      "execution_count": 128,
      "metadata": {
        "id": "cKVFilrzw5jk"
      },
      "outputs": [],
      "source": [
        "# The last bit 20% is split off for testing & evaluation\n",
        "X_train_full, X_test_full, y_train_full, y_test_full = train_test_split(X_train_full, y_train_full, test_size=0.2, shuffle=False)"
      ]
    },
    {
      "cell_type": "code",
      "execution_count": 129,
      "metadata": {
        "id": "ozDQ3mFNqc7A"
      },
      "outputs": [],
      "source": [
        "# Splitting off a validation set 20% to be used in training\n",
        "X_train, X_val, y_train, y_val = train_test_split(X_train_full, y_train_full, test_size=0.2, shuffle=False)"
      ]
    },
    {
      "cell_type": "code",
      "execution_count": 130,
      "metadata": {
        "id": "pcqi3CZBS2K9"
      },
      "outputs": [],
      "source": [
        "# Reshaping the training and testing input data into a 2D array required for ML models\n",
        "X_train_reshaped = X_train.reshape(X_train.shape[0], -1)\n",
        "X_test_reshaped = X_test_full.reshape(X_test_full.shape[0], -1)\n",
        "X_val_reshaped = X_val.reshape(X_val.shape[0], -1)\n"
      ]
    },
    {
      "cell_type": "markdown",
      "metadata": {
        "id": "nxy8CvcKcmol"
      },
      "source": [
        "**Applying MinMaxScaler from sklearn.preprocessing. Normalizing the data to ensures that all features have the same scale, which can help the model to converge faster and perform better.\n",
        "I reshape the data it back to a 3D array to be used as input for an LSTM model.**"
      ]
    },
    {
      "cell_type": "code",
      "execution_count": 131,
      "metadata": {
        "id": "fwY528ErS7n6"
      },
      "outputs": [],
      "source": [
        "# Initializing and fit MinMaxScaler\n",
        "scaler = MinMaxScaler()\n",
        "X_train_scaled = scaler.fit_transform(X_train_reshaped)\n",
        "X_val_scaled = scaler.transform(X_val_reshaped)\n",
        "X_test_scaled = scaler.transform(X_test_reshaped)\n",
        "\n",
        "# Reshaping back to 3D for LSTM input\n",
        "X_train_scaled = X_train_scaled.reshape(X_train.shape)\n",
        "X_val_scaled = X_val_scaled.reshape(X_val.shape)\n",
        "X_test_scaled = X_test_scaled.reshape(X_test_full.shape)"
      ]
    },
    {
      "cell_type": "markdown",
      "source": [
        "**Defining and fitting the model**"
      ],
      "metadata": {
        "id": "njC_1fSGMc-O"
      }
    },
    {
      "cell_type": "code",
      "source": [
        "class ElasticNetRegularizer(Regularizer):\n",
        "    def __init__(self, l1=0.0, l2=0.0):\n",
        "        self.l1 = l1\n",
        "        self.l2 = l2\n",
        "\n",
        "    def __call__(self, x):\n",
        "        return self.l1 * tf.reduce_sum(tf.abs(x)) + self.l2 * tf.reduce_sum(tf.square(x))\n",
        "\n",
        "    def get_config(self):\n",
        "        return {'l1': self.l1, 'l2': self.l2}\n",
        "\n",
        "# Registering ElasticNetRegularizer with Keras\n",
        "register_keras_serializable()(ElasticNetRegularizer)\n",
        "\n",
        "# Rescaling the training set for LSTM input\n",
        "X_train_reshaped = X_train_scaled.reshape(X_train_scaled.shape[0], X_train_scaled.shape[1], X_train_scaled.shape[2])\n",
        "X_val_reshaped = X_val.reshape(X_val.shape[0], X_val.shape[1], X_val.shape[2])\n",
        "\n",
        "model = Sequential()\n",
        "model.add(Bidirectional(LSTM(256, return_sequences=True, kernel_regularizer=ElasticNetRegularizer(l1=0.001, l2=0.01)), input_shape=(X_train_scaled.shape[1], X_train_scaled.shape[2])))\n",
        "model.add(BatchNormalization())\n",
        "model.add(Dropout(0.5))\n",
        "model.add(Bidirectional(LSTM(256, return_sequences=True, kernel_regularizer=ElasticNetRegularizer(l1=0.001, l2=0.01))))\n",
        "model.add(BatchNormalization())\n",
        "model.add(Dropout(0.5))\n",
        "model.add(Bidirectional(LSTM(128, return_sequences=False, kernel_regularizer=ElasticNetRegularizer(l1=0.001, l2=0.01))))\n",
        "model.add(BatchNormalization())\n",
        "model.add(Dropout(0.5))\n",
        "model.add(Dense(64, activation='relu', kernel_regularizer=ElasticNetRegularizer(l1=0.001, l2=0.01)))\n",
        "model.add(BatchNormalization())\n",
        "model.add(Dropout(0.5))\n",
        "model.add(Dense(1))\n",
        "\n",
        "model.compile(optimizer=Nadam(lr=0.000001), loss='mae')\n",
        "history = model.fit(X_train_reshaped, y_train, epochs=40, batch_size=64, validation_data=(X_val_scaled, y_val))\n"
      ],
      "metadata": {
        "colab": {
          "base_uri": "https://localhost:8080/"
        },
        "id": "u3joBm_YLPoj",
        "outputId": "22cb378d-0157-44c7-9a4a-af08ba106e81"
      },
      "execution_count": 132,
      "outputs": [
        {
          "output_type": "stream",
          "name": "stderr",
          "text": [
            "WARNING:absl:`lr` is deprecated in Keras optimizer, please use `learning_rate` or use the legacy optimizer, e.g.,tf.keras.optimizers.legacy.Nadam.\n"
          ]
        },
        {
          "output_type": "stream",
          "name": "stdout",
          "text": [
            "Epoch 1/40\n",
            "24/24 [==============================] - 16s 106ms/step - loss: 72.6759 - val_loss: 62.9667\n",
            "Epoch 2/40\n",
            "24/24 [==============================] - 0s 19ms/step - loss: 52.6395 - val_loss: 44.3740\n",
            "Epoch 3/40\n",
            "24/24 [==============================] - 0s 19ms/step - loss: 36.5228 - val_loss: 31.1448\n",
            "Epoch 4/40\n",
            "24/24 [==============================] - 0s 19ms/step - loss: 25.7124 - val_loss: 22.6553\n",
            "Epoch 5/40\n",
            "24/24 [==============================] - 0s 20ms/step - loss: 18.8113 - val_loss: 17.1964\n",
            "Epoch 6/40\n",
            "24/24 [==============================] - 0s 19ms/step - loss: 14.2872 - val_loss: 13.5325\n",
            "Epoch 7/40\n",
            "24/24 [==============================] - 0s 19ms/step - loss: 11.1310 - val_loss: 10.8035\n",
            "Epoch 8/40\n",
            "24/24 [==============================] - 0s 19ms/step - loss: 8.7551 - val_loss: 8.6887\n",
            "Epoch 9/40\n",
            "24/24 [==============================] - 1s 21ms/step - loss: 6.9678 - val_loss: 7.1760\n",
            "Epoch 10/40\n",
            "24/24 [==============================] - 1s 24ms/step - loss: 5.5949 - val_loss: 6.0235\n",
            "Epoch 11/40\n",
            "24/24 [==============================] - 1s 25ms/step - loss: 4.6050 - val_loss: 5.1510\n",
            "Epoch 12/40\n",
            "24/24 [==============================] - 1s 24ms/step - loss: 3.7828 - val_loss: 4.5019\n",
            "Epoch 13/40\n",
            "24/24 [==============================] - 1s 25ms/step - loss: 3.1533 - val_loss: 4.0006\n",
            "Epoch 14/40\n",
            "24/24 [==============================] - 1s 26ms/step - loss: 2.7192 - val_loss: 3.6935\n",
            "Epoch 15/40\n",
            "24/24 [==============================] - 0s 19ms/step - loss: 2.4051 - val_loss: 3.4154\n",
            "Epoch 16/40\n",
            "24/24 [==============================] - 0s 19ms/step - loss: 2.1133 - val_loss: 3.1348\n",
            "Epoch 17/40\n",
            "24/24 [==============================] - 0s 19ms/step - loss: 1.9421 - val_loss: 2.9387\n",
            "Epoch 18/40\n",
            "24/24 [==============================] - 0s 19ms/step - loss: 1.7479 - val_loss: 2.7341\n",
            "Epoch 19/40\n",
            "24/24 [==============================] - 0s 19ms/step - loss: 1.6145 - val_loss: 2.5732\n",
            "Epoch 20/40\n",
            "24/24 [==============================] - 0s 19ms/step - loss: 1.4400 - val_loss: 2.4177\n",
            "Epoch 21/40\n",
            "24/24 [==============================] - 0s 19ms/step - loss: 1.3424 - val_loss: 2.2555\n",
            "Epoch 22/40\n",
            "24/24 [==============================] - 0s 21ms/step - loss: 1.2206 - val_loss: 2.1867\n",
            "Epoch 23/40\n",
            "24/24 [==============================] - 0s 19ms/step - loss: 1.1152 - val_loss: 2.1076\n",
            "Epoch 24/40\n",
            "24/24 [==============================] - 0s 20ms/step - loss: 1.0184 - val_loss: 1.9681\n",
            "Epoch 25/40\n",
            "24/24 [==============================] - 0s 18ms/step - loss: 0.9576 - val_loss: 1.8050\n",
            "Epoch 26/40\n",
            "24/24 [==============================] - 0s 19ms/step - loss: 0.8872 - val_loss: 1.7868\n",
            "Epoch 27/40\n",
            "24/24 [==============================] - 0s 18ms/step - loss: 0.8358 - val_loss: 1.6464\n",
            "Epoch 28/40\n",
            "24/24 [==============================] - 0s 19ms/step - loss: 0.7689 - val_loss: 1.6012\n",
            "Epoch 29/40\n",
            "24/24 [==============================] - 0s 19ms/step - loss: 0.7239 - val_loss: 1.3975\n",
            "Epoch 30/40\n",
            "24/24 [==============================] - 0s 19ms/step - loss: 0.6830 - val_loss: 1.3987\n",
            "Epoch 31/40\n",
            "24/24 [==============================] - 0s 20ms/step - loss: 0.6239 - val_loss: 1.3541\n",
            "Epoch 32/40\n",
            "24/24 [==============================] - 0s 19ms/step - loss: 0.6083 - val_loss: 1.3965\n",
            "Epoch 33/40\n",
            "24/24 [==============================] - 0s 19ms/step - loss: 0.5885 - val_loss: 1.2199\n",
            "Epoch 34/40\n",
            "24/24 [==============================] - 0s 19ms/step - loss: 0.5536 - val_loss: 1.0916\n",
            "Epoch 35/40\n",
            "24/24 [==============================] - 0s 19ms/step - loss: 0.5106 - val_loss: 1.1814\n",
            "Epoch 36/40\n",
            "24/24 [==============================] - 1s 23ms/step - loss: 0.5009 - val_loss: 1.1057\n",
            "Epoch 37/40\n",
            "24/24 [==============================] - 1s 24ms/step - loss: 0.4686 - val_loss: 0.9343\n",
            "Epoch 38/40\n",
            "24/24 [==============================] - 1s 24ms/step - loss: 0.4627 - val_loss: 1.1196\n",
            "Epoch 39/40\n",
            "24/24 [==============================] - 1s 25ms/step - loss: 0.4529 - val_loss: 0.9372\n",
            "Epoch 40/40\n",
            "24/24 [==============================] - 1s 26ms/step - loss: 0.4462 - val_loss: 0.9663\n"
          ]
        }
      ]
    },
    {
      "cell_type": "code",
      "execution_count": 116,
      "metadata": {
        "colab": {
          "base_uri": "https://localhost:8080/",
          "height": 472
        },
        "id": "Bi-xib1x3wwf",
        "outputId": "19f824ba-7709-4424-bff0-87a5f0ab1605"
      },
      "outputs": [
        {
          "output_type": "display_data",
          "data": {
            "text/plain": [
              "<Figure size 640x480 with 1 Axes>"
            ],
            "image/png": "[encoded data removed]"
          },
          "metadata": {}
        }
      ],
      "source": [
        "# Getting the training and validation loss from the history\n",
        "train_loss = history.history['loss']\n",
        "val_loss = history.history['val_loss']\n",
        "\n",
        "# Plotting the training and validation loss\n",
        "epochs = range(1, len(train_loss) + 1)\n",
        "plt.plot(epochs, train_loss, 'b', label='Train MAE')\n",
        "plt.plot(epochs, val_loss, 'r', label='Validation MAE')\n",
        "plt.title('Training and Validation Loss')\n",
        "plt.xlabel('Epochs')\n",
        "plt.ylabel('Mae')\n",
        "plt.legend()\n",
        "plt.show()"
      ]
    },
    {
      "cell_type": "markdown",
      "source": [
        "**Evaluating the model on the test set and make predictions (the test set contains data collected for the time interval of 60Seconds)**"
      ],
      "metadata": {
        "id": "AEenIvPXOptr"
      }
    },
    {
      "cell_type": "code",
      "execution_count": 133,
      "metadata": {
        "colab": {
          "base_uri": "https://localhost:8080/"
        },
        "id": "1kBlhrb3yW0_",
        "outputId": "60ef1db3-96fe-4054-c6d6-af3be0e69c12"
      },
      "outputs": [
        {
          "output_type": "stream",
          "name": "stdout",
          "text": [
            "15/15 [==============================] - 0s 5ms/step - loss: 1.2688\n",
            "15/15 [==============================] - 2s 5ms/step\n"
          ]
        }
      ],
      "source": [
        "# Evaluating the model on the test set\n",
        "loss = model.evaluate(X_test_scaled, y_test_full)\n",
        "\n",
        "# Making predictions on the test set\n",
        "y_pred = model.predict(X_test_scaled)"
      ]
    },
    {
      "cell_type": "markdown",
      "source": [
        "**Visualizing the curves to see the relationship between the prediction and the actual**"
      ],
      "metadata": {
        "id": "QfHqD4BMPSB0"
      }
    },
    {
      "cell_type": "code",
      "execution_count": 134,
      "metadata": {
        "colab": {
          "base_uri": "https://localhost:8080/",
          "height": 369
        },
        "id": "M9yQb89eyffg",
        "outputId": "8a18c204-10cd-4904-eaf6-a4594da6e65f"
      },
      "outputs": [
        {
          "output_type": "display_data",
          "data": {
            "text/plain": [
              "<Figure size 1400x400 with 1 Axes>"
            ],
            "image/png": "[encoded data removed]"
          },
          "metadata": {}
        }
      ],
      "source": [
        "# Ploting the real and predicted transferred data for evalution of the model\n",
        "plt.figure(figsize=(14, 4))\n",
        "plt.plot(y_test_full, label='Real Transferred Data')\n",
        "plt.plot(y_pred, label='Predicted Transferred Data')\n",
        "plt.ylabel('Transferred Data')\n",
        "plt.legend()\n",
        "plt.show()"
      ]
    }
  ],
  "metadata": {
    "accelerator": "GPU",
    "colab": {
      "gpuType": "T4",
      "provenance": []
    },
    "kernelspec": {
      "display_name": "Python 3",
      "name": "python3"
    },
    "language_info": {
      "name": "python"
    }
  },
  "nbformat": 4,
  "nbformat_minor": 0
}